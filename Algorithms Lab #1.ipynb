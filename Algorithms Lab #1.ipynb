{
 "cells": [
  {
   "cell_type": "code",
   "execution_count": null,
   "metadata": {},
   "outputs": [],
   "source": [
    "##################################################\n",
    "# Lab 1: Fundamentals, Recursion, and Complexity #\n",
    "##################################################\n",
    "\n",
    "###\n",
    "# Setup\n",
    "###\n",
    "\n",
    "# Enrollment link: http://rosalind.info/classes/enroll/083764b484/\n",
    "# Course link: http://rosalind.info/classes/704/ (was 581 last year)\n",
    "\n",
    "# BMI2005/\n",
    "# labs/\n",
    "#     lab1/\n",
    "#         lab1.ipynb\n",
    "#     rosalind/\n",
    "#         rosalind_dna.txt\n",
    "#         rosalind_gc.txt\n",
    "\n",
    "# David Marr's 3 levels of organization (Neuroscientist, 1976)\n",
    "#   / 1. Computuational \\\n",
    "#  / 2. Algorithmic      \\\n",
    "# / 3. Implementational   \\\n",
    "\n",
    "# Style guides - PEP 8: https://www.python.org/dev/peps/pep-0008/\n",
    "# Stack overflow :)\n"
   ]
  },
  {
   "cell_type": "code",
   "execution_count": 1,
   "metadata": {},
   "outputs": [
    {
     "name": "stdout",
     "output_type": "stream",
     "text": [
      "198 216 191 201\n"
     ]
    }
   ],
   "source": [
    "'''\n",
    "Problem 1. Counting Nucleotides (Rosalind)\n",
    "Background: A string is simply an ordered collection of symbols selected \n",
    "from some alphabet and formed into a word; the length of a string is the \n",
    "number of symbols that it contains. An example of a length 21 DNA string \n",
    "(whose alphabet contains the symbols 'A', 'C', 'G', and 'T') is \n",
    "\"ATGCTTCAGAAAGGTCTTACG.\"\n",
    "\n",
    "Given: A DNA string ss of length at most 1000 nt.\n",
    "\n",
    "Return: Four integers (separated by spaces) counting the respective number \n",
    "of times that the symbols 'A', 'C', 'G', and 'T' occur in ss.\n",
    "\n",
    "Problem: Write a function compute_acgt() that takes in a string ss and returns \n",
    "a series of integers as specified above.\n",
    "\n",
    "# Sample Dataset\n",
    "AGCTTTTCATTCTGACTGCAACGGGCAATATGTCTCTGTGTGGATTAAAAAAAGAGTGTCTGATAGCAGC\n",
    "\n",
    "# Sample Output\n",
    "20 12 17 21\n",
    "'''\n",
    "# helper function for parsing input\n",
    "path_to_file = '/Users/KevinBu/Desktop/BMI2005_Algorithms_2020/Labs/rosalind/rosalind_dna.txt'\n",
    "with open(path_to_file, 'r') as f:\n",
    "    ss = f.readline()\n",
    "\n",
    "# parse file\n",
    "# create counters for each char\n",
    "# iterate over string (for char in string)\n",
    "# count each char (increment counter)\n",
    "# return sequence of integers\n",
    "    \n",
    "# write a function compute_acgt(ss) that returns the desired output above\n",
    "def compute_acgt(ss):\n",
    "    N_a, N_c, N_g, N_t = 0, 0, 0, 0\n",
    "    for s in ss:\n",
    "        if s == 'A':\n",
    "            N_a += 1\n",
    "        elif s == 'C':\n",
    "            N_c += 1\n",
    "        elif s == 'G':\n",
    "            N_g += 1\n",
    "        elif s == 'T':\n",
    "            N_t += 1\n",
    "\n",
    "    return str(N_a) + ' ' + str(N_c) + ' ' + str(N_g) + ' ' + str(N_t)\n",
    "\n",
    "# using the built in list operator .count() in python is better\n",
    "def compute_acgt(ss):\n",
    "    return str(ss.count('A')) + ' ' + str(ss.count('C')) + ' ' + str(ss.count('G')) + ' ' + str(ss.count('T'))\n",
    "\n",
    "print(compute_acgt(ss))"
   ]
  },
  {
   "cell_type": "code",
   "execution_count": 2,
   "metadata": {},
   "outputs": [
    {
     "data": {
      "text/plain": [
       "55"
      ]
     },
     "execution_count": 2,
     "metadata": {},
     "output_type": "execute_result"
    }
   ],
   "source": [
    "'''\n",
    "Problem 2. Implementation of Fibonacci Recursive\n",
    "\n",
    "Given: An integer n.\n",
    "\n",
    "Return: The n-th fibonacci number.\n",
    "\n",
    "Problem: Write a function recursive_fibonacci(n) that takes an integer n and \n",
    "returns the n-th fibonacci number using recursive calls. Compute the 10th \n",
    "fibonacci number. \n",
    "\n",
    "Here is the pseudocode (from Lecture 1) to help :)\n",
    "\n",
    "RECURSIVEFIBONACCI(n)\n",
    "1 if n = 1 or n = 2\n",
    "2   return 1\n",
    "3 else\n",
    "4   a ← RECURSIVEFIBONACCI(n - 1)\n",
    "5   b ← RECURSIVEFIBONACCI(n - 2)\n",
    "6   return a + b\n",
    "\n",
    "'''\n",
    "\n",
    "def recursive_fibonacci(n):\n",
    "    if n == 1 or n == 2:\n",
    "        return 1\n",
    "    else:\n",
    "        a = recursive_fibonacci(n-1)\n",
    "        b = recursive_fibonacci(n-2)\n",
    "    return a + b\n",
    "\n",
    "recursive_fibonacci(10)\n"
   ]
  },
  {
   "cell_type": "code",
   "execution_count": 3,
   "metadata": {},
   "outputs": [
    {
     "data": {
      "text/plain": [
       "46368"
      ]
     },
     "execution_count": 3,
     "metadata": {},
     "output_type": "execute_result"
    }
   ],
   "source": [
    "'''\n",
    "Problem 3. Implementation of Fibonacci Iterative (Rosalind)\n",
    "Background: The Fibonacci numbers 0,1,1,2,3,5,8,13,21,34,… are \n",
    "generated by the following simple rule Fn = F_{n−1} + F_{n−2} \n",
    "if n > 1, 1 if n = 1 and 0 if n = 0\n",
    "\n",
    "Given: A positive integer n ≤ 25.\n",
    "\n",
    "Return: The value of Fn.\n",
    "\n",
    "Problem: Write a function fibonacci(n) that takes an integer n and \n",
    "returns the n-th fibonacci number using iterative calls. \n",
    "\n",
    "Here is the pseudocode again (from Lecture 1) to help :)\n",
    "\n",
    "FIBONACCI(n)\n",
    "1 F1 ← 1\n",
    "2 F2 ← 1\n",
    "3 for i ← 3 to n\n",
    "4   Fi ← Fi-1 + Fi-2\n",
    "5 return Fn\n",
    "'''\n",
    "\n",
    "import numpy as np\n",
    "\n",
    "path_to_file = '/Users/KevinBu/Desktop/BMI2005_Algorithms_2020/Labs/rosalind/rosalind_fibo.txt'\n",
    "with open(path_to_file, 'r') as f:\n",
    "    n = int(f.readline())\n",
    "\n",
    "# parse file\n",
    "# initialize array of fibonacci numbers\n",
    "# for each entry in array after 0 and 1 (2 onwards)\n",
    "# compute i-th entry based on entry of i-1 and i-2 \n",
    "# return result of last entry (note that array of length n has index of last entry n-1)    \n",
    "    \n",
    "def fibonacci(n):\n",
    "    f = np.ones(n)\n",
    "    for i in range(2,n):\n",
    "        f[i] = f[i-1] + f[i-2]\n",
    "    return int(f[n-1])\n",
    "\n",
    "fibonacci(n)"
   ]
  },
  {
   "cell_type": "code",
   "execution_count": 4,
   "metadata": {},
   "outputs": [
    {
     "name": "stdout",
     "output_type": "stream",
     "text": [
      "The doubling test for recursive fibonacci\n",
      "2 3.999999999892978e-06\n",
      "4 8.000000000008e-06\n",
      "8 1.8000000000073513e-05\n",
      "16 0.0009360000000000479\n",
      "32 1.148912\n",
      "The doubling experiment for faster fibonacci\n",
      "2 5.199999999971894e-05\n",
      "4 2.4000000000246047e-05\n",
      "8 2.6000000000081513e-05\n",
      "16 2.799999999991698e-05\n",
      "32 4.8000000000048004e-05\n",
      "64 7.00000000000145e-05\n",
      "128 0.00011999999999989797\n",
      "256 0.00022799999999989495\n",
      "512 0.00048000000000003595\n",
      "1024 0.000952000000000286\n"
     ]
    }
   ],
   "source": [
    "'''\n",
    "Problem 4. Implementation of General Purpose Single-Array Integer-Based \n",
    "Doubling Experiment for Fibonacci andAny Other Single-Array Integer Function\n",
    "Background: A quick in silico experiment one can conduct to test the \n",
    "complexity scaling of a particular function such as fibonacci (which we \n",
    "call a 'Single-Array Integer-Based function') is to build a general purpose \n",
    "'wrapper' function that takes in that particular function and a desired maximum \n",
    "array size and iterate over array sizes that double (simulating problem \n",
    "complexity) and record how the runtime changes as a function of input size.\n",
    "'Fun' reading: https://www.nayuki.io/page/fast-fibonacci-algorithms\n",
    "\n",
    "Given: A desired starting array size (e.g. n = 2), a maximum bound (n_max) and a \n",
    "function func (e.g. fibonacci(n))\n",
    "\n",
    "Return: A matrix/nested list/2D np array/dict where each row is an 'observation' \n",
    "i.e. the first entry is the problem size and the second entry is the runtime.\n",
    "\n",
    "Problem:\n",
    "(a) Write a function time_trial(n, func) that takes in a particular problem size \n",
    "and function func and returns the time it took for that problem to run. The \n",
    "library 'time' and function time.process_time() may be useful here.\n",
    "\n",
    "(b) Write a function doubling_test(n, n_max, func) that takes in n, n_max and \n",
    "func using the helper function above to return a list of tuples [[2, 100],[4, 400],\n",
    "[8, 1600],...] where the first entry of each nested tuple is the size of the array \n",
    "and the second entry is the run time. \n",
    "\n",
    "(c) Plot your results on linear and log-log plots.\n",
    "\n",
    "\n",
    "'''\n",
    "import time\n",
    "\n",
    "# 4a) time_trial() has two arguments\n",
    "# 1. func() - takes an integer performs a calculation on an array generated from that \n",
    "# integer\n",
    "# ex. func() could be fibonacci(n) which generates the fibonacci sequence and returns \n",
    "# the n-th fibonacci number\n",
    "# 2. n - integer value of the problem size, here the argument for func() above\n",
    "# returns the time it takes to generate and solve \n",
    "\n",
    "def time_trial(n, func):\n",
    "    start = time.process_time()\n",
    "    output = func(n)\n",
    "    fin = time.process_time()\n",
    "    return fin - start \n",
    "\n",
    "# 4b) doubling_test() has three arguments\n",
    "# 1. n - integer for problem size (starting, e.g. n = 2)\n",
    "# 2. n_max - the largest value for problem size (ending, e.g. n_max = 128)\n",
    "# returns a data matrix of value pairs; the problem size and corresponding run time\n",
    "\n",
    "def doubling_test(n, n_max, func):\n",
    "    data = []\n",
    "    while n < n_max: # n = 2, 4, 8, ... \n",
    "        current = time_trial(n, func)\n",
    "        print(n, current)\n",
    "        # [2, 1e-05], [4, 2e-05], [8, 4e-05] etc.\n",
    "        data.append([n, current])\n",
    "        n *= 2\n",
    "    return np.array(data)\n",
    "\n",
    "print('The doubling test for recursive fibonacci')\n",
    "recursive_data = doubling_test(2, 50, recursive_fibonacci)\n",
    "\n",
    "print('The doubling experiment for faster fibonacci')\n",
    "interative_data = doubling_test(2, 2000, fibonacci)\n"
   ]
  },
  {
   "cell_type": "code",
   "execution_count": 6,
   "metadata": {},
   "outputs": [
    {
     "data": {
      "text/plain": [
       "(-15, 10)"
      ]
     },
     "execution_count": 6,
     "metadata": {},
     "output_type": "execute_result"
    },
    {
     "data": {
      "image/png": "[encoded data removed]",
      "text/plain": [
       "<Figure size 432x288 with 1 Axes>"
      ]
     },
     "metadata": {
      "needs_background": "light"
     },
     "output_type": "display_data"
    }
   ],
   "source": [
    "'''\n",
    "4c) Study of Fibonacci Complexity Scaling, Plotting Results Linear and \n",
    "Log-Log in Matplotlib\n",
    "Here we plot the runtimes for the recursive data on linear and log-log plot scales.\n",
    "'''\n",
    "%matplotlib inline\n",
    "import matplotlib.pyplot as plt\n",
    "\n",
    "n_data = recursive_data[:,0]\n",
    "time_data = recursive_data[:,1]\n",
    "\n",
    "plt.figure(figsize=(6, 4))\n",
    "#plt.scatter(n_data, time_data)\n",
    "#plt.xlim(0, 40)\n",
    "#plt.ylim(-0.1, 2)\n",
    "\n",
    "plt.scatter(np.log(n_data), np.log(time_data))\n",
    "plt.xlim(0, 5)\n",
    "plt.ylim(-15, 10)"
   ]
  },
  {
   "cell_type": "code",
   "execution_count": 7,
   "metadata": {},
   "outputs": [
    {
     "name": "stdout",
     "output_type": "stream",
     "text": [
      "The doubling time for two sum naive\n",
      "2 0.0003059999999996954\n",
      "4 0.00025999999999992696\n",
      "8 0.00030800000000041905\n",
      "16 0.000500000000000167\n",
      "32 0.0012419999999999654\n",
      "64 0.004658000000000051\n",
      "128 0.014429999999999943\n",
      "256 0.04158600000000012\n",
      "512 0.14638399999999985\n",
      "1024 0.574916\n",
      "2048 2.2898380000000005\n"
     ]
    },
    {
     "data": {
      "text/plain": [
       "<matplotlib.collections.PathCollection at 0x11b918290>"
      ]
     },
     "execution_count": 7,
     "metadata": {},
     "output_type": "execute_result"
    },
    {
     "data": {
      "image/png": "[encoded data removed]",
      "text/plain": [
       "<Figure size 432x288 with 1 Axes>"
      ]
     },
     "metadata": {
      "needs_background": "light"
     },
     "output_type": "display_data"
    }
   ],
   "source": [
    "'''\n",
    "Problem 5. Two-sum and improvements\n",
    "Background: Recall the in class implementation of two-sum naive that seems intuitively \n",
    "inefficient and can be shown to run in O(n^2) (why?). In the next problem, we will \n",
    "construct a faster version.\n",
    "'''\n",
    "# set seed\n",
    "np.random.seed(0)\n",
    "\n",
    "# visualize on 2D array\n",
    "def two_sum_naive(n):\n",
    "    # lst = [1, -31, 26, 83, ... ] length n \n",
    "    lst = np.random.randint(low = -100, high = 100 + 1, size = n)\n",
    "    count = 0\n",
    "    for i in range(len(lst)):            # i = 0, lst[i] = 1\n",
    "        for j in range(i + 1, len(lst)): # i = 0, j = 1 -> lst[i] = 1, lst[j] = -31\n",
    "            if (lst[i] + lst[j] == 0):   # i = 0, j = 2 -> lst[i] = 1, lst[j] = 26 ... etc.\n",
    "                count += 1\n",
    "    return count\n",
    "\n",
    "print('The doubling time for two sum naive')\n",
    "naive_data = doubling_test(2, 4000, two_sum_naive)\n",
    "\n",
    "n_data = naive_data[:,0]\n",
    "time_data = naive_data[:,1]\n",
    "\n",
    "%matplotlib inline\n",
    "plt.figure(figsize=(6, 4))\n",
    "#plt.scatter(n_data, time_data)\n",
    "plt.scatter(np.log(n_data), np.log(time_data))"
   ]
  },
  {
   "cell_type": "code",
   "execution_count": 10,
   "metadata": {},
   "outputs": [
    {
     "name": "stdout",
     "output_type": "stream",
     "text": [
      "The doubling time for two sum improved\n",
      "2 0.0002940000000002385\n",
      "4 0.000268000000000157\n",
      "8 0.00030800000000041905\n",
      "16 0.00027600000000038705\n",
      "32 0.000268000000000157\n",
      "64 0.00078400000000034\n",
      "128 0.0017100000000001003\n",
      "256 0.0027800000000004488\n",
      "512 0.00589200000000023\n",
      "1024 0.012291999999999526\n",
      "2048 0.021253999999999884\n"
     ]
    },
    {
     "data": {
      "text/plain": [
       "<matplotlib.collections.PathCollection at 0x11bbf9c90>"
      ]
     },
     "execution_count": 10,
     "metadata": {},
     "output_type": "execute_result"
    },
    {
     "data": {
      "image/png": "[encoded data removed]",
      "text/plain": [
       "<Figure size 432x288 with 1 Axes>"
      ]
     },
     "metadata": {
      "needs_background": "light"
     },
     "output_type": "display_data"
    }
   ],
   "source": [
    "'''\n",
    "Problem 5. Two-sum and improvements (continued)\n",
    "Given: an array size n\n",
    "\n",
    "Return: a function two_sum_improved(n) that builds a random array of integers;\n",
    "here we use np.random.randint(low = -100, high = 100 + 1, size = n) \n",
    "- and returns the number of pairs that sum to 0 (excluding duplicates).\n",
    "\n",
    "Problem:\n",
    "(a) Construct a list lst of random integers from -100 to 100 of size n and sort them.\n",
    "(b) Using the provided binarySearch function (that takes in a list and a particular \n",
    "item of interest for which we are searching), construct a function two_sum_improved(n) \n",
    "that takes in a list and uses the lines from (a) to return the number of pairs that sum to 0. \n",
    "\n",
    "'''\n",
    "# binarySearch - take for granted now that this runs in O(log(n)) \n",
    "# example: binarySearch([1,2,4], 2) returns True\n",
    "# where alist = [1,2,4] and item = 2\n",
    "\n",
    "def binarySearch(alist, item):\n",
    "    first = 0\n",
    "    last = len(alist) - 1\n",
    "    found = False\n",
    "    while first <= last and not found:\n",
    "        midpoint = (first + last)//2\n",
    "        if alist[midpoint] == item:\n",
    "            found = True\n",
    "        else:\n",
    "            if item < alist[midpoint]:\n",
    "                last = midpoint - 1\n",
    "            else:\n",
    "                first = midpoint + 1\n",
    "    return found\n",
    "\n",
    "# TODO\n",
    "# generate random list of integers size n\n",
    "# sort list\n",
    "# initialize counter \n",
    "# for each entry in list\n",
    "## check if inverse entry exists via search\n",
    "## increment count if it does\n",
    "# divide by 2 to avoid double-counting\n",
    "\n",
    "def two_sum_improved(n):\n",
    "    lst = np.random.randint(low = -100, high = 100 + 1, size = n)\n",
    "    lst.sort() # in place, ascending order, O(n log n) (Timsort, merge sort)\n",
    "    count = 0\n",
    "    # fill in here\n",
    "    for i in range(len(lst)):\n",
    "        if binarySearch(lst, -lst[i]):\n",
    "            count += 1\n",
    "    return count // 2\n",
    "\n",
    "print('The doubling time for two sum improved')\n",
    "improved_data = doubling_test(2, 4000, two_sum_improved)\n",
    "\n",
    "n_data = improved_data[:,0]\n",
    "time_data = improved_data[:,1]\n",
    "\n",
    "plt.figure(figsize=(6, 4))\n",
    "# plt.scatter(n_data, time_data)\n",
    "plt.scatter(np.log(n_data), np.log(time_data))"
   ]
  },
  {
   "cell_type": "code",
   "execution_count": null,
   "metadata": {},
   "outputs": [],
   "source": [
    "'''\n",
    "Problem 6.\n",
    "Provide the big-O times for the following code blocks.\n",
    "The following formula may be useful: n + nr + nr^2 + nr^3 + ... = n / (1 - r)\n",
    "\n",
    "a. O(nlogn)\n",
    "def problem_a(n):\n",
    "    sum = 0 \n",
    "    i = n\n",
    "    while i > 0:\n",
    "        for j in range(n):\n",
    "            sum += 1        \n",
    "        i = i // 2\n",
    "    return sum \n",
    "\n",
    "b. O(2n) ~ O(n)\n",
    "def problem_b(n):\n",
    "    sum = 0\n",
    "    k = n\n",
    "    while k > 0:\n",
    "        for i in range(k):\n",
    "            sum += 1\n",
    "        k = k // 2\n",
    "    return sum\n",
    "    \n",
    "c. n (log n) ^2\n",
    "def problem_c(n):\n",
    "    sum = 0\n",
    "    i = n/2\n",
    "    while i < n:\n",
    "        j = 1\n",
    "        while j < n:\n",
    "            k = 1\n",
    "            while k < n:\n",
    "                sum += 1\n",
    "                k = k * 2\n",
    "            j = j * 2    \n",
    "        i += 1\n",
    "    return sum \n",
    "'''"
   ]
  },
  {
   "cell_type": "code",
   "execution_count": null,
   "metadata": {},
   "outputs": [],
   "source": [
    "'''\n",
    "Problem 7.\n",
    "Give tilde approximations for the following quantities:\n",
    "a. 2n + 3 ~ 2n\n",
    "b. 2log(n) + n + 3n^3 + 3 ~ 3n^3\n",
    "c. 1/n + log(n) ~ log(n)\n",
    "d. n^4 / n^3 ~ n\n",
    "e. n^2 + 2^n ~ 2^n\n",
    "'''"
   ]
  },
  {
   "cell_type": "code",
   "execution_count": 1,
   "metadata": {},
   "outputs": [
    {
     "name": "stdout",
     "output_type": "stream",
     "text": [
      "(5, 0.895630306308691)\n"
     ]
    },
    {
     "data": {
      "text/plain": [
       "<matplotlib.collections.PathCollection at 0x1149f65f8>"
      ]
     },
     "execution_count": 1,
     "metadata": {},
     "output_type": "execute_result"
    },
    {
     "data": {
      "image/png": "[encoded data removed]",
      "text/plain": [
       "<Figure size 432x288 with 1 Axes>"
      ]
     },
     "metadata": {},
     "output_type": "display_data"
    }
   ],
   "source": [
    "'''\n",
    "Problem 8. Write a function birthday(n) that takes an integer n and uses \n",
    "np.random.randint(low = 0, high = n) to generate a random sequence of integers \n",
    "between 0 and n-1. Run experiments to validate the hypothesis that the number \n",
    "of integers generated before the first repeated value is found is ~ sqrt ( pi * n / 2).\n",
    "\n",
    "a. Write a command that generates a random number between 0 and n - 1.\n",
    "\n",
    "b. Write a function birthday(n) that returns the number of values generated until a value is \n",
    "repeated as a function of the range of possible values n.\n",
    "\n",
    "c. Write a function birthday_sim(n) that repeats birthday(n) a total of n_sim = 10000 times.\n",
    "\n",
    "d. Show that as n increases (e.g. with a doubling experiment), from n = 2 to n = 1000,\n",
    "the value of birthday_sim(n) approaches sqrt(pi * n / 2).\n",
    "'''\n",
    "\n",
    "import numpy as np\n",
    "\n",
    "def birthday(n):\n",
    "    past_trials = []\n",
    "    new_trial = np.random.randint(low=0, high=n)\n",
    "    k = 0\n",
    "    while new_trial not in past_trials:\n",
    "        past_trials.append(new_trial)\n",
    "        new_trial = np.random.randint(low=0, high=n)\n",
    "        k += 1\n",
    "    return k\n",
    "\n",
    "def birthday_sim(n):\n",
    "    data = []\n",
    "    for i in range(10000):\n",
    "        data.append(birthday(n))\n",
    "    return (n, np.mean(data) / np.sqrt(np.pi * n/2))\n",
    "\n",
    "print(birthday_sim(5))\n",
    "\n",
    "data = []\n",
    "n = 2\n",
    "n_max = 1000\n",
    "while n < n_max:\n",
    "    data.append(birthday_sim(n))\n",
    "    n = n * 2\n",
    "data = np.array(data)\n",
    "    \n",
    "%matplotlib inline\n",
    "import matplotlib.pyplot as plt\n",
    "\n",
    "plt.figure(figsize=(6, 4))\n",
    "plt.scatter(data[:,0], data[:,1])\n",
    "     "
   ]
  },
  {
   "cell_type": "code",
   "execution_count": null,
   "metadata": {},
   "outputs": [],
   "source": []
  }
 ],
 "metadata": {
  "kernelspec": {
   "display_name": "Python 3",
   "language": "python",
   "name": "python3"
  },
  "language_info": {
   "codemirror_mode": {
    "name": "ipython",
    "version": 3
   },
   "file_extension": ".py",
   "mimetype": "text/x-python",
   "name": "python",
   "nbconvert_exporter": "python",
   "pygments_lexer": "ipython3",
   "version": "3.6.5"
  }
 },
 "nbformat": 4,
 "nbformat_minor": 4
}
