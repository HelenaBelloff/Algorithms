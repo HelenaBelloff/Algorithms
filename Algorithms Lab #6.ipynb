{
 "cells": [
  {
   "cell_type": "code",
   "execution_count": null,
   "metadata": {},
   "outputs": [],
   "source": [
    "###########################\n",
    "# Lab 6: Graph Algorithms #\n",
    "###########################"
   ]
  },
  {
   "cell_type": "code",
   "execution_count": null,
   "metadata": {},
   "outputs": [],
   "source": [
    "'''\n",
    "AGENDA\n",
    "1. DFS and BFS\n",
    "2. Dijkstra and Bellman-Ford\n",
    "'''"
   ]
  },
  {
   "cell_type": "code",
   "execution_count": null,
   "metadata": {},
   "outputs": [],
   "source": [
    "graph_adj = {\n",
    "    'a': ['b','e'],\n",
    "    'e': ['a'],\n",
    "    'b': ['a', 'f'],\n",
    "    'f': ['c', 'g'],\n",
    "    'c': ['f', 'g', 'd'],\n",
    "    'd': ['c', 'g', 'h'],\n",
    "    'g': ['f', 'c', 'd', 'h'],\n",
    "    'h': ['g', 'd']    \n",
    "}\n",
    "\n",
    "# comments in code indicate if you were to use this for searching in addition to listing all nodes via BFS traversal\n",
    "def BFS(Adj, start):\n",
    "    nodes = []\n",
    "    level = {start: 0} \n",
    "    i = 1\n",
    "    frontier = [start]\n",
    "    while frontier: \n",
    "        next_items = []\n",
    "        for u in frontier: \n",
    "            # if u is key, set found = True\n",
    "            for v in Adj[u]: \n",
    "                if v not in level:\n",
    "                    level[v] = i \n",
    "                    next_items.append(v)\n",
    "                    nodes.append(v)\n",
    "                    # check if key = v\n",
    "        frontier = next_items # update frontier (e.g. level 1 to level 2)\n",
    "        i = i + 1\n",
    "    return nodes\n",
    "\n",
    "BFS(graph_adj, 'b')"
   ]
  },
  {
   "cell_type": "code",
   "execution_count": null,
   "metadata": {},
   "outputs": [],
   "source": [
    "def DFSVisit(Adj, s, parent, nodes, stack):\n",
    "    print(s, stack)\n",
    "    stack.add(s)\n",
    "    # base case?\n",
    "    for v in Adj[s]: \n",
    "        if v in stack: \n",
    "            print('cycle found')\n",
    "        if v not in parent:\n",
    "            parent[v] = s\n",
    "            DFSVisit(Adj, v, parent, nodes, stack)\n",
    "            nodes.append(v)    \n",
    "    stack.remove(s)\n",
    "    print(s, stack)\n",
    "    \n",
    "def DFS(Adj, start):\n",
    "    stack = set()\n",
    "    completed = {}\n",
    "    nodes = []\n",
    "    parent = {start: None}\n",
    "    DFSVisit(Adj, start, parent, nodes, stack)\n",
    "    return nodes\n",
    "\n",
    "#DFS(graph_adj, 'b')"
   ]
  },
  {
   "cell_type": "code",
   "execution_count": null,
   "metadata": {},
   "outputs": [],
   "source": [
    "dcg_graph_adj = {\n",
    "    'a': ['e'],\n",
    "    'e': [],\n",
    "    'b': ['a', 'f'],\n",
    "    'f': ['c'],\n",
    "    'c': ['g', 'd'],\n",
    "    'd': ['g'],\n",
    "    'g': ['h', 'f'],\n",
    "    'h': ['d']    \n",
    "}\n",
    "DFS(dcg_graph_adj, 'b')\n"
   ]
  },
  {
   "cell_type": "code",
   "execution_count": null,
   "metadata": {},
   "outputs": [],
   "source": [
    "dag_graph_adj = {\n",
    "    'a': ['e'],\n",
    "    'e': [],\n",
    "    'b': ['a', 'f'],\n",
    "    'f': ['c', 'g'],\n",
    "    'c': ['g', 'd'],\n",
    "    'd': [],\n",
    "    'g': ['h'],\n",
    "    'h': ['d']    \n",
    "}\n",
    "DFS(dag_graph_adj, 'b')"
   ]
  },
  {
   "cell_type": "code",
   "execution_count": null,
   "metadata": {},
   "outputs": [],
   "source": [
    "'''\n",
    "INPUTS\n",
    "V -> [a, b, c ...]\n",
    "E -> {'a': ['b'],\n",
    "      'b': ['c', 'e'],\n",
    "      ...} # Directed graph\n",
    " \n",
    "s = source\n",
    "w(a,b) = 5, w(b,c) = 1, ... etc. for u, v in V\n",
    "EXTRACT_MIN(Q): get minimum distance and remove that node from Q\n",
    "\n",
    "Dijkstra (V, E, w, s):\n",
    "    # deep copy, not shallow copy\n",
    "    Q = V.copy()\n",
    "    \n",
    "    # initialize distances\n",
    "    dist = {}\n",
    "    for vertex in V:\n",
    "        dist[vertex] = np.inf\n",
    "    dist[s] = 0    \n",
    "    \n",
    "    # perform algorithm\n",
    "    while Q != None:\n",
    "        u = EXTRACT-MIN(Q) # deletes u from Q\n",
    "        for each vertex v in E[u]:\n",
    "            dist[v] = UPDATE(u, v, w(u,v)]) # looks at dist[v] and lowers it if possible\n",
    "\n",
    "'''"
   ]
  },
  {
   "cell_type": "code",
   "execution_count": null,
   "metadata": {},
   "outputs": [],
   "source": [
    "'''\n",
    "Bellman-Ford (V, E, w, s):\n",
    "    for i in range(0, len(V)-1):\n",
    "        for edge in E: # does not depend on i\n",
    "            UPDATE(u, v, w(u,v))\n",
    "    for edge in E:\n",
    "        if d[v] > d[u] + w(u,v): # Triangle inequality\n",
    "            print('neg-weight cycle exists')\n",
    "            return False\n",
    "    return True\n",
    "'''"
   ]
  }
 ],
 "metadata": {
  "kernelspec": {
   "display_name": "Python 3",
   "language": "python",
   "name": "python3"
  },
  "language_info": {
   "codemirror_mode": {
    "name": "ipython",
    "version": 3
   },
   "file_extension": ".py",
   "mimetype": "text/x-python",
   "name": "python",
   "nbconvert_exporter": "python",
   "pygments_lexer": "ipython3",
   "version": "3.6.5"
  }
 },
 "nbformat": 4,
 "nbformat_minor": 4
}
