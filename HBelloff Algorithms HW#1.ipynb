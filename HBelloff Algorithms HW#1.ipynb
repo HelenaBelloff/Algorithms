{
 "cells": [
  {
   "cell_type": "markdown",
   "metadata": {},
   "source": [
    "# **Algorithms Homework 1**\n",
    "**BMI 2005: Dr. Costa**\n",
    "\n",
    "**Helena Belloff**\n",
    "\n",
    "**3/10/2020**"
   ]
  },
  {
   "cell_type": "markdown",
   "metadata": {},
   "source": [
    "_________________\n",
    "\n",
    "** Question 1  **"
   ]
  },
  {
   "cell_type": "markdown",
   "metadata": {},
   "source": [
    "Part A"
   ]
  },
  {
   "cell_type": "code",
   "execution_count": 478,
   "metadata": {},
   "outputs": [],
   "source": [
    "'Naive lennard, with distance = r, epsilon e = 1, and sigma s = 1'\n",
    "\n",
    "def naive_lennard_jones_potential(r, e = 1, s = 1): \n",
    "    return 4 * e * ((s / r)**12 - (s / r)**6)\n",
    "    "
   ]
  },
  {
   "cell_type": "markdown",
   "metadata": {},
   "source": [
    "Part B"
   ]
  },
  {
   "cell_type": "markdown",
   "metadata": {},
   "source": [
    "LJPOTENTIAL(r, σ, ε)\n",
    "1. r^2 ← r * r\n",
    "2. σ^2 ← σ * σ\n",
    "3. z ← σ^2 / r^2\n",
    "4. u ← z^3\n",
    "5. return( -4εu(1 - u) )"
   ]
  },
  {
   "cell_type": "code",
   "execution_count": 479,
   "metadata": {},
   "outputs": [
    {
     "data": {
      "text/plain": [
       "'V_ij = 4 * e * ((s/r)**12 - (s/r)**6)'"
      ]
     },
     "execution_count": 479,
     "metadata": {},
     "output_type": "execute_result"
    }
   ],
   "source": [
    "'Starting:'\n",
    "'V_ij = -4 * e * u * (1 - u)'\n",
    "\n",
    "'Then substitute u for z**3:'\n",
    "'V_ij = -4 * e * z**3 * (1 - z**3)'\n",
    "\n",
    "'Then substitue z for s**2 (for sigma) / r **2'\n",
    "'V_ij = -4 * e * (s**2 / r**2)**3 * (1 - (s**2 / r**2)**3)'\n",
    "\n",
    "'Then distribute'\n",
    "'V_ij = -4 * e * (s**6/r**6) * (1 - (s**6/r**6))'\n",
    "\n",
    "'Keep distributing'\n",
    "'V_ij = -4 * e * ((s**6/r**6) - (s**12/r**12))'\n",
    "\n",
    "'This is the same as:'\n",
    "'V_ij = 4 * e * (-(s**6/r**6) + (s**12/r**12))'\n",
    "\n",
    "'Which is the same as:'\n",
    "'V_ij = 4 * e * ((s**12/r**12) - (s**6/r**6))'\n",
    "\n",
    "'Now we can further simplify'\n",
    "'V_ij = 4 * e * ((s/r)**12 - (s/r)**6)'\n"
   ]
  },
  {
   "cell_type": "markdown",
   "metadata": {},
   "source": [
    "Part C"
   ]
  },
  {
   "cell_type": "code",
   "execution_count": 480,
   "metadata": {},
   "outputs": [],
   "source": [
    "def efficient_lennard_jones_potential(r, e, s):\n",
    "    r2  = r**2\n",
    "    s2 = s**2\n",
    "    z = s2 / r2\n",
    "    u = z**3\n",
    "    return -4 * s * u * (1 - u)"
   ]
  },
  {
   "cell_type": "markdown",
   "metadata": {},
   "source": [
    "Both algorithms have O(1) runtime. \n",
    "However, while both algorithms run in constant time, the efficient_lennard_jones_potential algorithm is more efficient than the naive_lennard_jones_potential algorithm because the efficient algorithm has less steps.\n",
    "\n",
    "For example, the naive algorithm:\n",
    "1. s / r\n",
    "2. (s / r)^12\n",
    "3. (s / r)^6\n",
    "4. (s / r)^12 - (s / r)^6\n",
    "5. 4 * e\n",
    "6. 4 * e * (s / r)^12 - (s / r)^6\n",
    "\n",
    "The efficient algorithm: \n",
    "1. r2  = r^2\n",
    "2. s2 = s^2\n",
    "3. z = s2 / r2\n",
    "4. u = z^3\n"
   ]
  },
  {
   "cell_type": "markdown",
   "metadata": {},
   "source": [
    "Part D"
   ]
  },
  {
   "cell_type": "code",
   "execution_count": 481,
   "metadata": {},
   "outputs": [
    {
     "name": "stdout",
     "output_type": "stream",
     "text": [
      "Time for Naive Algorithm:  4.899999998997373e-05\n"
     ]
    }
   ],
   "source": [
    "import time\n",
    "\n",
    "# Naive Algorithm for r = 10\n",
    "r = 2.1\n",
    "init = time.clock()\n",
    "naive_lennard_jones_potential(r, e = 1, s = 1)\n",
    "fin = time.clock()\n",
    "time_in_sec = fin - init\n",
    "print(\"Time for Naive Algorithm: \", time_in_sec)\n"
   ]
  },
  {
   "cell_type": "code",
   "execution_count": 482,
   "metadata": {},
   "outputs": [
    {
     "name": "stdout",
     "output_type": "stream",
     "text": [
      "Time for Efficient Algorithm:  4.500000000007276e-05\n"
     ]
    }
   ],
   "source": [
    "import time\n",
    "\n",
    "r = 2.1\n",
    "e = 1\n",
    "s = 1\n",
    "# Efficient Algorithm\n",
    "init = time.clock()\n",
    "efficient_lennard_jones_potential(r, e, s)\n",
    "fin = time.clock()\n",
    "time_in_sec = fin - init\n",
    "print(\"Time for Efficient Algorithm: \", time_in_sec)\n"
   ]
  },
  {
   "cell_type": "markdown",
   "metadata": {},
   "source": [
    "Based on an r input of 2.1 (chosen at random), you can see that the efficient algorithm runs faster than the naive algorithm. The efficient algorithm has less steps (4 steps) and the naive algorithm has more steps (6 steps). The efficient algorithm calculates all of the variables in the equation before returning the total equation value while the naive algorithm calculates the variables and returns the equation in one step. This could be a reason why the efficient algorithm runs faster."
   ]
  },
  {
   "cell_type": "markdown",
   "metadata": {},
   "source": [
    "_________________\n",
    "\n",
    "** Question 2  **"
   ]
  },
  {
   "cell_type": "markdown",
   "metadata": {},
   "source": [
    "Part A"
   ]
  },
  {
   "cell_type": "code",
   "execution_count": 483,
   "metadata": {},
   "outputs": [],
   "source": [
    "import numpy as np\n",
    "import re\n",
    "\n",
    "\n",
    "def xyz_file(filename):\n",
    "    # Open file\n",
    "    with open(filename, 'r') as f:\n",
    "        num_of_atoms = None\n",
    "        comment = None\n",
    "        output = []\n",
    "        for line in f:\n",
    "            if num_of_atoms == None:\n",
    "                num_of_atoms = int(line)\n",
    "            elif comment == None:\n",
    "                comment = line\n",
    "            else:\n",
    "                split_l = re.split('\\s|(?<!\\d)[,.](?!\\d)', line)\n",
    "                float_filter = re.compile(r'^-?\\d+(?:\\.\\d*)') \n",
    "                fl = [a for a in split_l if float_filter.match(a)] \n",
    "                while(\"\" in fl) : \n",
    "                    fl.remove(\"\")\n",
    "                output.append(fl)\n",
    "        output = np.array(output, dtype = 'float')\n",
    "        return output\n",
    "\n",
    "# I am fully acknowledging that using regular expressions is horrible, but Python always has issues with \n",
    "# floats and this was a fun challenge! "
   ]
  },
  {
   "cell_type": "markdown",
   "metadata": {},
   "source": [
    "Part B"
   ]
  },
  {
   "cell_type": "code",
   "execution_count": 484,
   "metadata": {},
   "outputs": [
    {
     "name": "stdout",
     "output_type": "stream",
     "text": [
      "File for 3 atoms:\n",
      "[[ 0.53913567 -0.51850799  0.07937232]\n",
      " [ 0.11065883  0.48501761 -0.49567643]\n",
      " [-0.4635602   0.05370848  0.50985172]]\n"
     ]
    }
   ],
   "source": [
    "test3file = '/Users/helenabelloff/Downloads/lj-0003.xyz'\n",
    "test3 = xyz_file(test3file)\n",
    "print(\"File for 3 atoms:\")\n",
    "print(test3)"
   ]
  },
  {
   "cell_type": "code",
   "execution_count": 485,
   "metadata": {},
   "outputs": [
    {
     "name": "stdout",
     "output_type": "stream",
     "text": [
      "File for 200 atoms:\n",
      "[[-3.657420e-01 -1.434236e+00  1.086713e+00]\n",
      " [ 1.758085e+00 -2.733505e+00 -4.553970e-01]\n",
      " [-2.777260e+00  8.659730e-01 -9.788090e-01]\n",
      " [-8.509290e-01  8.053680e-01 -1.050607e+00]\n",
      " [ 4.697280e-01 -1.262455e+00  1.770134e+00]\n",
      " [ 1.776954e+00  2.284919e+00  2.691217e+00]\n",
      " [ 1.564369e+00  2.100387e+00 -3.898060e-01]\n",
      " [ 2.153646e+00  1.233546e+00  1.145661e+00]\n",
      " [ 2.373994e+00  2.372510e+00  1.522204e+00]\n",
      " [-3.883020e-01 -2.295452e+00 -2.280274e+00]\n",
      " [ 3.075270e-01 -2.482761e+00  3.009565e+00]\n",
      " [-2.300226e+00  1.953750e-01 -2.845240e+00]\n",
      " [ 1.437510e-01  2.302608e+00 -1.036652e+00]\n",
      " [-8.150650e-01  2.285127e+00  2.228309e+00]\n",
      " [-5.325050e-01 -2.077966e+00 -2.126230e-01]\n",
      " [-2.505161e+00 -2.032122e+00  3.956170e-01]\n",
      " [ 2.298553e+00 -1.556703e+00  7.257640e-01]\n",
      " [-9.271460e-01  1.175015e+00 -2.089625e+00]\n",
      " [-1.088581e+00 -2.306500e+00 -1.239712e+00]\n",
      " [-8.483660e-01 -2.593442e+00  5.815430e-01]\n",
      " [-4.684690e-01  4.355200e-01  2.547586e+00]\n",
      " [-1.573523e+00 -2.927182e+00 -5.036780e-01]\n",
      " [ 8.607840e-01  1.864500e+00  2.211916e+00]\n",
      " [-2.718781e+00  2.004786e+00 -6.429160e-01]\n",
      " [-7.960020e-01 -1.170890e-01 -1.603722e+00]\n",
      " [ 2.364272e+00  8.743800e-01 -1.884007e+00]\n",
      " [-1.680227e+00  1.590991e+00  1.988155e+00]\n",
      " [-7.043830e-01  2.289136e+00 -2.478882e+00]\n",
      " [-2.725551e+00 -1.462385e+00  2.576240e+00]\n",
      " [-6.481100e-02  2.432663e+00  1.112106e+00]\n",
      " [ 1.578978e+00  1.157653e+00 -1.443362e+00]\n",
      " [-2.808624e+00 -1.371886e+00  1.198805e+00]\n",
      " [ 2.662049e+00 -9.652930e-01  1.894504e+00]\n",
      " [-2.120500e+00 -7.674040e-01 -1.915962e+00]\n",
      " [ 8.381890e-01  5.341650e-01  2.644669e+00]\n",
      " [ 1.820032e+00 -2.825321e+00  1.894909e+00]\n",
      " [-2.418190e+00 -2.161153e+00  1.610742e+00]\n",
      " [-2.504931e+00  1.278606e+00 -3.544100e-02]\n",
      " [-8.250680e-01  1.782477e+00 -1.284146e+00]\n",
      " [ 1.191531e+00  1.445538e+00 -2.878417e+00]\n",
      " [ 1.361469e+00 -2.352558e+00 -2.591308e+00]\n",
      " [-1.683328e+00 -2.243963e+00 -2.207895e+00]\n",
      " [-1.863343e+00 -1.556484e+00  1.110513e+00]\n",
      " [-1.480930e-01 -2.186036e+00  1.960295e+00]\n",
      " [ 2.539610e-01  2.964677e+00 -2.178259e+00]\n",
      " [ 9.611450e-01  7.406150e-01 -2.191696e+00]\n",
      " [-1.177891e+00 -1.186982e+00  1.845150e+00]\n",
      " [-3.020322e+00  2.992527e+00 -1.563788e+00]\n",
      " [-2.628187e+00 -2.254930e+00 -3.021219e+00]\n",
      " [-1.571468e+00  6.199710e-01  2.289327e+00]\n",
      " [ 9.656580e-01  1.270066e+00 -6.774180e-01]\n",
      " [ 4.818900e-02 -1.342267e+00  2.693822e+00]\n",
      " [-9.055070e-01  1.375027e+00  2.860521e+00]\n",
      " [-2.529568e+00  2.081393e+00 -2.651263e+00]\n",
      " [ 2.396735e+00  1.659341e+00 -1.060197e+00]\n",
      " [-2.782229e+00  9.238870e-01  2.586055e+00]\n",
      " [ 8.331740e-01 -2.301687e+00  3.293500e-02]\n",
      " [-2.960772e+00 -2.277000e-03 -2.124519e+00]\n",
      " [-2.502560e+00 -9.457300e-02  1.553836e+00]\n",
      " [ 1.898655e+00  2.900360e-01  5.705860e-01]\n",
      " [-1.605635e+00  1.690265e+00 -3.652870e-01]\n",
      " [-1.793060e+00  6.611380e-01 -5.172460e-01]\n",
      " [-1.859091e+00 -2.777633e+00  8.236660e-01]\n",
      " [ 7.093470e-01  2.082142e+00 -2.200933e+00]\n",
      " [-2.450812e+00 -3.000787e+00 -2.386267e+00]\n",
      " [-1.483522e+00 -3.204540e-01  1.530988e+00]\n",
      " [ 2.581986e+00 -2.216004e+00  2.208493e+00]\n",
      " [-2.743476e+00 -4.803990e-01 -1.052457e+00]\n",
      " [-2.047517e+00 -5.550710e-01  2.417447e+00]\n",
      " [-1.992130e-01 -2.700331e+00 -1.341588e+00]\n",
      " [ 2.449860e-01 -4.110960e-01  2.488521e+00]\n",
      " [-1.558180e+00 -1.902012e+00 -1.608730e-01]\n",
      " [ 9.558900e-02 -5.790870e-01  8.322470e-01]\n",
      " [-8.074140e-01 -1.932960e-01  7.985140e-01]\n",
      " [ 2.571495e+00  2.650164e+00 -2.457710e+00]\n",
      " [-1.903952e+00 -1.497498e+00 -1.245553e+00]\n",
      " [ 1.555300e-01  1.287264e+00  3.049757e+00]\n",
      " [ 8.763530e-01 -1.209656e+00 -2.869061e+00]\n",
      " [-1.014884e+00  2.758996e+00 -1.404368e+00]\n",
      " [ 3.645990e-01 -7.479590e-01 -2.174350e+00]\n",
      " [ 2.210205e+00  2.605829e+00 -1.345919e+00]\n",
      " [-1.013643e+00  7.850580e-01  1.488230e-01]\n",
      " [ 2.296052e+00  5.189600e-02 -1.288487e+00]\n",
      " [-1.172306e+00 -2.199831e+00  1.480207e+00]\n",
      " [ 8.299670e-01 -2.648809e+00  1.665245e+00]\n",
      " [ 4.735340e-01  1.994695e+00  8.066200e-02]\n",
      " [ 8.395120e-01  2.919362e+00  5.667790e-01]\n",
      " [ 1.144650e-01 -1.334717e+00  2.226420e-01]\n",
      " [-7.108210e-01 -6.682770e-01 -2.591983e+00]\n",
      " [-1.751082e+00  3.635490e-01  8.540130e-01]\n",
      " [ 3.030798e+00  6.374930e-01  7.248410e-01]\n",
      " [-2.206737e+00  2.397890e+00  1.425154e+00]\n",
      " [ 7.934180e-01 -1.738395e+00  9.339630e-01]\n",
      " [ 8.636220e-01 -1.950648e+00  2.386209e+00]\n",
      " [ 1.153762e+00  2.162432e+00 -1.370701e+00]\n",
      " [ 2.812934e+00 -3.970330e-01  7.749700e-01]\n",
      " [-2.032821e+00  1.370208e+00 -1.487073e+00]\n",
      " [-1.067529e+00 -1.298810e+00 -1.812397e+00]\n",
      " [-1.593624e+00  2.128700e+00 -2.070528e+00]\n",
      " [-1.091230e+00  9.108170e-01  1.389281e+00]\n",
      " [ 1.936826e+00 -8.116100e-01  1.264636e+00]\n",
      " [-2.910623e+00  1.836623e+00  1.019299e+00]\n",
      " [ 1.008160e-01  1.270280e-01 -1.729120e-01]\n",
      " [ 1.497362e+00  1.523917e+00  4.656370e-01]\n",
      " [-2.200411e+00  2.202799e+00  3.176620e-01]\n",
      " [ 1.054769e+00 -2.661750e-01  3.391540e-01]\n",
      " [ 1.506341e+00 -9.756840e-01 -9.625630e-01]\n",
      " [ 2.087581e+00 -1.710239e+00 -3.842980e-01]\n",
      " [-1.932571e+00  4.322510e-01 -1.894528e+00]\n",
      " [-2.067662e+00  2.509165e+00 -1.336072e+00]\n",
      " [ 2.446100e-02  6.246430e-01  1.043277e+00]\n",
      " [ 3.350300e-02  1.202241e+00  1.947684e+00]\n",
      " [ 1.914681e+00  2.645663e+00  7.367600e-01]\n",
      " [-9.580180e-01 -4.420310e-01  2.533276e+00]\n",
      " [ 1.822234e+00  7.541580e-01  2.429689e+00]\n",
      " [ 1.166480e+00  7.995080e-01  1.594173e+00]\n",
      " [ 7.483170e-01 -1.750488e+00 -9.216620e-01]\n",
      " [-2.105561e+00 -6.061870e-01  8.025740e-01]\n",
      " [-1.151645e+00  2.432521e+00  3.495080e-01]\n",
      " [ 1.964969e+00  1.902484e+00 -2.139321e+00]\n",
      " [ 2.579795e+00  1.410802e+00 -3.007189e+00]\n",
      " [ 5.408700e-01 -1.838680e+00 -2.009531e+00]\n",
      " [ 1.472915e+00  2.758967e+00 -2.445710e+00]\n",
      " [-1.779790e+00 -1.894786e+00  2.369904e+00]\n",
      " [-2.990372e+00  1.817225e+00 -1.689983e+00]\n",
      " [-1.097340e-01  2.893481e+00 -1.361080e-01]\n",
      " [ 1.556305e+00 -3.473150e-01  2.405198e+00]\n",
      " [ 2.596518e+00 -2.411664e+00 -9.854430e-01]\n",
      " [ 2.509203e+00 -1.756579e+00 -2.479463e+00]\n",
      " [-1.732435e+00  2.162894e+00  2.879127e+00]\n",
      " [ 2.693540e+00  1.542000e-02  2.509489e+00]\n",
      " [-2.060071e+00 -2.566811e+00 -1.256351e+00]\n",
      " [-2.726594e+00  2.036407e+00  2.329921e+00]\n",
      " [-1.446620e+00  3.023454e+00 -2.592842e+00]\n",
      " [-1.581214e+00 -1.210574e+00 -2.787958e+00]\n",
      " [ 1.911573e+00 -2.796412e+00  2.897954e+00]\n",
      " [-8.172550e-01 -2.901551e+00  2.720514e+00]\n",
      " [ 8.534450e-01  3.028693e+00 -6.227920e-01]\n",
      " [ 9.695420e-01  2.982474e+00  2.644251e+00]\n",
      " [ 1.725302e+00 -1.979893e+00 -1.362000e+00]\n",
      " [ 9.147450e-01 -1.715960e-01 -2.806108e+00]\n",
      " [ 1.792153e+00  3.529890e-01 -2.729063e+00]\n",
      " [-2.535944e+00  1.049451e+00  1.548042e+00]\n",
      " [-4.380600e-02  1.169969e+00 -3.916250e-01]\n",
      " [ 1.803749e+00 -1.448640e+00  2.736685e+00]\n",
      " [-1.200865e+00  2.595270e-01 -2.774250e+00]\n",
      " [ 3.271140e-01 -8.148660e-01 -7.213560e-01]\n",
      " [-1.143000e-02  2.933755e+00  2.076282e+00]\n",
      " [ 3.909650e-01  2.183870e-01 -1.388837e+00]\n",
      " [-9.739550e-01 -1.140929e+00 -7.752480e-01]\n",
      " [ 1.339502e+00 -1.319390e+00  9.519100e-02]\n",
      " [ 1.962738e+00 -6.541910e-01 -2.667991e+00]\n",
      " [ 1.425623e+00 -1.184039e+00 -1.893936e+00]\n",
      " [ 2.737373e+00 -2.515925e+00  4.409600e-02]\n",
      " [ 3.042988e+00 -9.008880e-01 -4.734700e-02]\n",
      " [ 3.015245e+00  2.856092e+00  8.271110e-01]\n",
      " [-1.003783e+00  1.920991e+00  1.200620e+00]\n",
      " [-1.135608e+00 -1.113863e+00  4.347360e-01]\n",
      " [ 2.451240e-01  2.368795e+00  2.928110e+00]\n",
      " [ 1.174269e+00 -2.844210e+00 -1.632150e+00]\n",
      " [ 2.175019e+00 -4.937740e-01 -2.225390e-01]\n",
      " [-1.666701e+00 -4.240580e-01 -1.048449e+00]\n",
      " [-1.923581e+00  1.125510e+00 -2.783827e+00]\n",
      " [-2.824613e+00  1.065207e+00 -2.268936e+00]\n",
      " [-1.690999e+00  1.332365e+00  6.810280e-01]\n",
      " [-2.932433e+00 -7.335940e-01 -2.798754e+00]\n",
      " [-2.613720e+00 -3.004375e+00 -4.237810e-01]\n",
      " [ 9.711300e-02  1.307864e+00 -1.569231e+00]\n",
      " [ 2.530044e+00  2.517521e+00 -2.577580e-01]\n",
      " [-3.741250e-01 -4.769770e-01  1.671278e+00]\n",
      " [ 6.048140e-01  1.711910e+00  1.115817e+00]\n",
      " [-2.371680e-01 -1.694472e+00 -1.272346e+00]\n",
      " [ 2.748579e+00 -2.351871e+00  1.138910e+00]\n",
      " [ 2.172295e+00 -2.618410e+00 -2.130904e+00]\n",
      " [ 2.770572e+00  2.832750e-01 -2.284690e-01]\n",
      " [ 2.537995e+00  1.444539e+00  2.154509e+00]\n",
      " [ 1.597281e+00 -1.641779e+00  1.641803e+00]\n",
      " [-8.387310e-01 -2.976200e-02 -5.266410e-01]\n",
      " [ 1.158085e+00  2.040600e-01 -5.782610e-01]\n",
      " [-3.229360e-01  1.593183e+00  5.629110e-01]\n",
      " [-2.474051e+00 -2.512500e-02  1.491190e-01]\n",
      " [-2.778221e+00 -1.833398e+00 -6.664370e-01]\n",
      " [ 4.639400e-02  3.174910e-01 -2.489322e+00]\n",
      " [ 2.511057e+00 -1.029233e+00 -1.290869e+00]\n",
      " [-1.018668e+00  2.922596e+00  1.419916e+00]\n",
      " [ 7.866600e-02 -2.648608e+00  1.029346e+00]\n",
      " [-2.011331e+00 -9.585690e-01 -3.058000e-01]\n",
      " [ 2.533568e+00  1.541955e+00  2.833020e-01]\n",
      " [-1.738417e+00  3.032015e+00  2.081836e+00]\n",
      " [-2.867667e+00 -1.973459e+00 -1.768975e+00]\n",
      " [ 7.962510e-01  8.730750e-01  1.987760e-01]\n",
      " [ 2.131499e+00  1.519390e-01  1.561887e+00]\n",
      " [-8.242890e-01 -1.880767e+00  2.751043e+00]\n",
      " [-5.894160e-01  2.005700e+00 -3.095360e-01]\n",
      " [ 1.602148e+00 -2.390681e+00  6.705460e-01]\n",
      " [ 1.941956e+00  8.957960e-01 -4.987030e-01]\n",
      " [ 1.264922e+00  2.471647e+00  1.519485e+00]\n",
      " [ 8.395920e-01 -2.475520e-01  1.571806e+00]\n",
      " [ 2.784630e+00  2.865942e+00  2.433927e+00]\n",
      " [ 1.368566e+00 -7.767700e-02 -1.707778e+00]]\n"
     ]
    }
   ],
   "source": [
    "test200file = '/Users/helenabelloff/Downloads/lj-0200.xyz'\n",
    "test200 = xyz_file(test200file)\n",
    "print(\"File for 200 atoms:\")\n",
    "print(test200)"
   ]
  },
  {
   "cell_type": "code",
   "execution_count": 486,
   "metadata": {},
   "outputs": [
    {
     "name": "stdout",
     "output_type": "stream",
     "text": [
      "File for 500 atoms:\n",
      "[[-0.448824  0.154664 -0.111682]\n",
      " [-0.343292  0.251982  0.908185]\n",
      " [-0.061432 -0.713214  0.44626 ]\n",
      " ...\n",
      " [-0.418216 -3.160866 -3.093508]\n",
      " [-3.495829 -0.822057 -3.114033]\n",
      " [ 1.717514  2.747489 -3.091613]]\n"
     ]
    }
   ],
   "source": [
    "test500file = '/Users/helenabelloff/Downloads/lj-0500.xyz'\n",
    "test500 = xyz_file(test500file)\n",
    "print(\"File for 500 atoms:\")\n",
    "print(test500)"
   ]
  },
  {
   "cell_type": "code",
   "execution_count": 487,
   "metadata": {},
   "outputs": [
    {
     "name": "stdout",
     "output_type": "stream",
     "text": [
      "File for 1000 atoms:\n",
      "[[ 0.516613  0.019724  1.204809]\n",
      " [ 0.69019  -0.9218    0.658039]\n",
      " [-0.29502  -0.500291  0.760023]\n",
      " ...\n",
      " [-4.022963 -1.797735 -3.736121]\n",
      " [-2.724171  3.646723 -3.741703]\n",
      " [-4.660764 -0.889811 -3.721657]]\n"
     ]
    }
   ],
   "source": [
    "test1000file = '/Users/helenabelloff/Downloads/lj-1000.xyz'\n",
    "test1000 = xyz_file(test1000file)\n",
    "print(\"File for 1000 atoms:\")\n",
    "print(test1000)"
   ]
  },
  {
   "cell_type": "markdown",
   "metadata": {},
   "source": [
    "_________________\n",
    "\n",
    "**Question 3**"
   ]
  },
  {
   "cell_type": "markdown",
   "metadata": {},
   "source": [
    "Part A"
   ]
  },
  {
   "cell_type": "code",
   "execution_count": 488,
   "metadata": {},
   "outputs": [
    {
     "name": "stdout",
     "output_type": "stream",
     "text": [
      "Number of pairwise potential energy calculations required for 3 atoms:  3\n",
      "Number of pairwise potential energy calculations required for 200 atoms:  19900\n",
      "Number of pairwise potential energy calculations required for 500 atoms:  124750\n",
      "Number of pairwise potential energy calculations required for 1000 atoms:  499500\n"
     ]
    }
   ],
   "source": [
    "def pairwise_potential_energy(n):\n",
    "    # (n * (n-1)) / 2\n",
    "    # (n^2 - n) / 2\n",
    "    return int((n**2 - n) / 2)\n",
    "\n",
    "print(\"Number of pairwise potential energy calculations required for 3 atoms: \", pairwise_potential_energy(3))\n",
    "print(\"Number of pairwise potential energy calculations required for 200 atoms: \", pairwise_potential_energy(200))\n",
    "print(\"Number of pairwise potential energy calculations required for 500 atoms: \", pairwise_potential_energy(500))\n",
    "print(\"Number of pairwise potential energy calculations required for 1000 atoms: \", pairwise_potential_energy(1000))"
   ]
  },
  {
   "cell_type": "markdown",
   "metadata": {},
   "source": [
    "Part B"
   ]
  },
  {
   "cell_type": "code",
   "execution_count": 489,
   "metadata": {},
   "outputs": [
    {
     "name": "stdout",
     "output_type": "stream",
     "text": [
      "Total potential energy for 3-atom case:  -2.437910531303559\n",
      "Total potential energy for 200-atom case:  -799.6247671902994\n",
      "Total potential energy for 500-atom case:  -3315.986631056259\n",
      "Total potential energy for 1000-atom case:  -7017.923501577738\n"
     ]
    }
   ],
   "source": [
    "import math\n",
    "\n",
    "# Function that calculates Euclidean Distance between atom pairs\n",
    "def distance_bet_atom_pairs(i,j):\n",
    "    #2D space so we have our formula:\n",
    "    return math.sqrt((j[0]-i[0])**2 + (j[1]-i[1])**2 + (j[2]-i[2])**2)\n",
    "\n",
    "e = 1\n",
    "s = 1\n",
    "# Function that caclulates total potential energy in a system\n",
    "def total_potential_energy(filename):\n",
    "    total = 0\n",
    "    for i in range(0, len(filename)):\n",
    "        first_row = filename[i,:]\n",
    "        for a in range(i+1, len(filename)):\n",
    "            second_row = filename[a,:]\n",
    "            r = distance_bet_atom_pairs(first_row, second_row)\n",
    "            total += efficient_lennard_jones_potential(r,e,s)\n",
    "    return total\n",
    "\n",
    "print(\"Total potential energy for 3-atom case: \", total_potential_energy(test3))\n",
    "print(\"Total potential energy for 200-atom case: \", total_potential_energy(test200))\n",
    "print(\"Total potential energy for 500-atom case: \", total_potential_energy(test500))\n",
    "print(\"Total potential energy for 1000-atom case: \", total_potential_energy(test1000))"
   ]
  },
  {
   "cell_type": "markdown",
   "metadata": {},
   "source": [
    "_________________\n",
    "\n",
    "**Question 4**"
   ]
  },
  {
   "cell_type": "markdown",
   "metadata": {},
   "source": [
    "Part A"
   ]
  },
  {
   "cell_type": "code",
   "execution_count": 490,
   "metadata": {},
   "outputs": [
    {
     "name": "stdout",
     "output_type": "stream",
     "text": [
      "Total potential energy for 3-atom case with cut:  0\n",
      "Total potential energy for 200-atom case with cut:  37.83058699166228\n",
      "Total potential energy for 500-atom case with cut:  30.564359625240737\n",
      "Total potential energy for 1000-atom case with cut:  58.507225923230536\n"
     ]
    }
   ],
   "source": [
    "e = 1\n",
    "s = 1\n",
    "\n",
    "def cut_test(filename, rcut=1):\n",
    "    total = 0\n",
    "    for i in range(0, len(filename)):\n",
    "        first_row = filename[i,:]\n",
    "        for a in range(i+1, len(filename)):\n",
    "            second_row = filename[a,:]\n",
    "            r = distance_bet_atom_pairs(first_row, second_row)\n",
    "            if r <= rcut:\n",
    "                total += efficient_lennard_jones_potential(r,e,s)\n",
    "    return total\n",
    "\n",
    "print(\"Total potential energy for 3-atom case with cut: \", cut_test(test3))\n",
    "print(\"Total potential energy for 200-atom case with cut: \", cut_test(test200))\n",
    "print(\"Total potential energy for 500-atom case with cut: \", cut_test(test500))\n",
    "print(\"Total potential energy for 1000-atom case with cut: \", cut_test(test1000))"
   ]
  },
  {
   "cell_type": "markdown",
   "metadata": {},
   "source": [
    "**Conclusion:**\n",
    "\n",
    "This is a bad cut off because all of the values are supposed to have negative potential energy and these totals are not even close to the true totals. "
   ]
  },
  {
   "cell_type": "markdown",
   "metadata": {},
   "source": [
    "Part B"
   ]
  },
  {
   "cell_type": "code",
   "execution_count": 491,
   "metadata": {},
   "outputs": [
    {
     "name": "stdout",
     "output_type": "stream",
     "text": [
      "[[ 5.00000000e-01  0.00000000e+00]\n",
      " [ 6.00000000e-01  0.00000000e+00]\n",
      " [ 7.00000000e-01  0.00000000e+00]\n",
      " [ 8.00000000e-01  0.00000000e+00]\n",
      " [ 9.00000000e-01  0.00000000e+00]\n",
      " [ 1.00000000e+00  5.85072259e+01]\n",
      " [ 1.10000000e+00 -2.30651268e+03]\n",
      " [ 1.20000000e+00 -4.99510245e+03]\n",
      " [ 1.30000000e+00 -5.00017219e+03]\n",
      " [ 1.40000000e+00 -5.00117000e+03]\n",
      " [ 1.50000000e+00 -5.02509210e+03]\n",
      " [ 1.60000000e+00 -5.62719699e+03]\n",
      " [ 1.70000000e+00 -5.63182512e+03]\n",
      " [ 1.80000000e+00 -5.68275245e+03]\n",
      " [ 1.90000000e+00 -6.03393778e+03]\n",
      " [ 2.00000000e+00 -6.35897392e+03]\n",
      " [ 2.10000000e+00 -6.40846427e+03]\n",
      " [ 2.20000000e+00 -6.55119595e+03]\n",
      " [ 2.30000000e+00 -6.60106702e+03]\n",
      " [ 2.40000000e+00 -6.60834952e+03]\n",
      " [ 2.50000000e+00 -6.70416232e+03]\n",
      " [ 2.60000000e+00 -6.72170504e+03]\n",
      " [ 2.70000000e+00 -6.75101089e+03]\n",
      " [ 2.80000000e+00 -6.78315064e+03]\n",
      " [ 2.90000000e+00 -6.82825640e+03]\n",
      " [ 3.00000000e+00 -6.86793545e+03]\n",
      " [ 3.10000000e+00 -6.87546447e+03]\n",
      " [ 3.20000000e+00 -6.88973329e+03]\n",
      " [ 3.30000000e+00 -6.90331881e+03]\n",
      " [ 3.40000000e+00 -6.91430180e+03]\n",
      " [ 3.50000000e+00 -6.92502709e+03]\n",
      " [ 3.60000000e+00 -6.93536141e+03]\n",
      " [ 3.70000000e+00 -6.94589389e+03]\n",
      " [ 3.80000000e+00 -6.95337316e+03]\n",
      " [ 3.90000000e+00 -6.96172575e+03]\n",
      " [ 4.00000000e+00 -6.96865214e+03]\n",
      " [ 4.10000000e+00 -6.97237519e+03]\n",
      " [ 4.20000000e+00 -6.97581336e+03]\n",
      " [ 4.30000000e+00 -6.98067692e+03]\n",
      " [ 4.40000000e+00 -6.98360467e+03]\n",
      " [ 4.50000000e+00 -6.98685415e+03]\n",
      " [ 4.60000000e+00 -6.99056633e+03]\n",
      " [ 4.70000000e+00 -6.99384620e+03]\n",
      " [ 4.80000000e+00 -6.99584892e+03]\n",
      " [ 4.90000000e+00 -6.99799789e+03]]\n"
     ]
    },
    {
     "data": {
      "image/png": "[encoded data removed]",
      "text/plain": [
       "<Figure size 432x288 with 1 Axes>"
      ]
     },
     "metadata": {},
     "output_type": "display_data"
    }
   ],
   "source": [
    "import numpy as np\n",
    "import matplotlib.pyplot as plt\n",
    "\n",
    "#0.5 < rcut < 5.0 in increments of 0.1 for the system of N = 1000 atoms. \n",
    "cut_and_result = []\n",
    "for cut in np.arange(0.5, 5, 0.1): # QUESTION: Why does Python hate floats?\n",
    "    result = (cut, cut_test(test1000, rcut = cut))\n",
    "    cut_and_result.append(result)\n",
    "cut_and_result = np.array(cut_and_result)\n",
    "print(cut_and_result)\n",
    "\n",
    "cut_level = cut_and_result[:,0] # First column, cut off levels\n",
    "cut_result = cut_and_result[:,1] # Second column, the outputs at those levels\n",
    "\n",
    "plt.scatter(cut_level, cut_result)\n",
    "plt.title(\"Total Potential Energy for various cutoffs for N = 1000 atoms\")\n",
    "plt.xlabel(\"Cutoff Level\")\n",
    "plt.ylabel(\"Total Potential Energy\")\n",
    "plt.show()"
   ]
  },
  {
   "cell_type": "markdown",
   "metadata": {},
   "source": [
    "So, we want to choose a cut off that allows us to capture as much of the original total potential energy in the system (which we determined was -7017.923501577738). I would choose a cut off that is at least 99% of the original total potential energy. So -7017.923501577738*(.99) = 6947.74426656196062. The cut off level that gets us closest to that output is 3.7. "
   ]
  },
  {
   "cell_type": "markdown",
   "metadata": {},
   "source": [
    "Part C"
   ]
  },
  {
   "cell_type": "code",
   "execution_count": 492,
   "metadata": {},
   "outputs": [
    {
     "name": "stdout",
     "output_type": "stream",
     "text": [
      "Time for naive algorithm for 3 atoms:  8.200000002034358e-05\n",
      "Time for naive algorithm for 200 atoms:  0.07199100000002545\n",
      "Time for naive algorithm for 500 atoms:  0.26319100000000617\n",
      "Time for naive algorithm for 3 atoms:  0.9835920000000442\n",
      "Time for Cut Algorithm for 3 atoms:  4.899999998997373e-05\n",
      "Time for Cut Algorithm for 200 atoms:  0.034484999999904176\n",
      "Time for Cut Algorithm for 500 atoms:  0.1973160000000007\n",
      "Time for Cut Algorithm for 1000 atoms:  0.8050849999999627\n"
     ]
    },
    {
     "data": {
      "image/png": "[encoded data removed]",
      "text/plain": [
       "<Figure size 432x288 with 1 Axes>"
      ]
     },
     "metadata": {},
     "output_type": "display_data"
    }
   ],
   "source": [
    "import time\n",
    "import matplotlib.pyplot as plt\n",
    "\n",
    "chosen_cut = 3.7\n",
    "\n",
    "init3 = time.clock()\n",
    "total_potential_energy(test3)\n",
    "fin3 = time.clock()\n",
    "time_in_sec3 = fin3 - init3\n",
    "print(\"Time for naive algorithm for 3 atoms: \", time_in_sec3)\n",
    "\n",
    "init200 = time.clock()\n",
    "total_potential_energy(test200)\n",
    "fin200 = time.clock()\n",
    "time_in_sec200 = fin200 - init200\n",
    "print(\"Time for naive algorithm for 200 atoms: \", time_in_sec200)\n",
    "\n",
    "init500 = time.clock()\n",
    "total_potential_energy(test500)\n",
    "fin500 = time.clock()\n",
    "time_in_sec500 = fin500 - init500\n",
    "print(\"Time for naive algorithm for 500 atoms: \", time_in_sec500)\n",
    "\n",
    "init1000 = time.clock()\n",
    "total_potential_energy(test1000)\n",
    "fin1000 = time.clock()\n",
    "time_in_sec1000 = fin1000 - init1000\n",
    "print(\"Time for naive algorithm for 3 atoms: \", time_in_sec1000)\n",
    "\n",
    "#______________ Cut test ________________\n",
    "\n",
    "initCut3 = time.clock()\n",
    "cut_test(test3, chosen_cut)\n",
    "finCut3 = time.clock()\n",
    "time_in_sec_cut3 = finCut3 - initCut3\n",
    "print(\"Time for Cut Algorithm for 3 atoms: \", time_in_sec_cut3)\n",
    "\n",
    "initCut200 = time.clock()\n",
    "cut_test(test200, chosen_cut)\n",
    "finCut200 = time.clock()\n",
    "time_in_sec_cut200 = finCut200 - initCut200\n",
    "print(\"Time for Cut Algorithm for 200 atoms: \", time_in_sec_cut200)\n",
    "\n",
    "initCut500 = time.clock()\n",
    "cut_test(test500, chosen_cut)\n",
    "finCut500 = time.clock()\n",
    "time_in_sec_cut500 = finCut500 - initCut500\n",
    "print(\"Time for Cut Algorithm for 500 atoms: \", time_in_sec_cut500)\n",
    "\n",
    "initCut1000 = time.clock()\n",
    "cut_test(test1000, chosen_cut)\n",
    "finCut1000 = time.clock()\n",
    "time_in_sec_cut1000 = finCut1000 - initCut1000\n",
    "print(\"Time for Cut Algorithm for 1000 atoms: \", time_in_sec_cut1000)\n",
    "\n",
    "# Plotting\n",
    "\n",
    "plt.plot([3,200,500,1000],[time_in_sec3, time_in_sec200, time_in_sec500, time_in_sec1000], marker='o')\n",
    "plt.plot([3,200,500,1000],[time_in_sec_cut3, time_in_sec_cut200, time_in_sec_cut500, time_in_sec_cut1000], marker='o')\n",
    "plt.title(\"Plot of Performance for Naive and Naive Cutoff Algorithms\")\n",
    "plt.xlabel(\"Number Of Atoms\")\n",
    "plt.ylabel(\"Runtime (in secs)\")\n",
    "plt.legend([\"Naive\",\"Naive Cutoff\"])\n",
    "plt.show()\n"
   ]
  },
  {
   "cell_type": "markdown",
   "metadata": {},
   "source": [
    "This cut off does slightly reduce the cut algorithm runtimes. However, we have not solved the N^2 scaling problem because we're still calculating the distance between atom pairs, which is still N^2."
   ]
  },
  {
   "cell_type": "markdown",
   "metadata": {},
   "source": [
    "_________________\n",
    "\n",
    "**Question 5**"
   ]
  },
  {
   "cell_type": "markdown",
   "metadata": {},
   "source": [
    "1. N + 1\n",
    "--> N\n",
    "\n",
    "2. 1 + 1/N\n",
    "--> 1\n",
    "\n",
    "3. (1 + 1/N)(1 + 2/N)\n",
    "-->  1\n",
    "\n",
    "4. 2N^3 - 15N^2 + N\n",
    "--> 2N^3\n",
    "\n",
    "5. log(2N)/log(N)\n",
    "--> 1\n",
    "\n",
    "6. log(N^2+1)/log(N)\n",
    "--> 2\n",
    "\n",
    "7. N^100/2^N\n",
    "--> 1\n"
   ]
  },
  {
   "cell_type": "markdown",
   "metadata": {},
   "source": [
    "_________________\n",
    "\n",
    "**Question 6**"
   ]
  },
  {
   "cell_type": "markdown",
   "metadata": {},
   "source": [
    "Part A"
   ]
  },
  {
   "cell_type": "code",
   "execution_count": null,
   "metadata": {},
   "outputs": [],
   "source": [
    "def problem_a(n)\n",
    "    sum = 0\n",
    "    k = n\n",
    "    while k > 0:\n",
    "        for i in range(k):\n",
    "            sum += 1\n",
    "        k = k // 2\n",
    "    return sum"
   ]
  },
  {
   "cell_type": "markdown",
   "metadata": {},
   "source": [
    "This program is O(N)"
   ]
  },
  {
   "cell_type": "markdown",
   "metadata": {},
   "source": [
    "Part B"
   ]
  },
  {
   "cell_type": "code",
   "execution_count": null,
   "metadata": {},
   "outputs": [],
   "source": [
    "def problem_b(n):\n",
    "    sum = 0\n",
    "    i = 1 \n",
    "    while i < n:\n",
    "        for j in range(i):\n",
    "            sum += 1        \n",
    "        i = i * 2\n",
    "    return sum"
   ]
  },
  {
   "cell_type": "markdown",
   "metadata": {},
   "source": [
    "This program is O(N)"
   ]
  },
  {
   "cell_type": "markdown",
   "metadata": {},
   "source": [
    "Part C"
   ]
  },
  {
   "cell_type": "code",
   "execution_count": null,
   "metadata": {},
   "outputs": [],
   "source": [
    "def problem_c(n):\n",
    "    sum = 0\n",
    "    i = 1 \n",
    "    while i < n:\n",
    "        for j in range(n):\n",
    "            sum += 1        \n",
    "        i = i * 2\n",
    "    return sum "
   ]
  },
  {
   "cell_type": "markdown",
   "metadata": {},
   "source": [
    "This program is O(NlogN)"
   ]
  },
  {
   "cell_type": "markdown",
   "metadata": {},
   "source": [
    "_________________\n",
    "\n",
    "**Question 7**"
   ]
  },
  {
   "cell_type": "markdown",
   "metadata": {},
   "source": [
    "For a problem of size N0, it takes T0 time\n",
    "1. F(N0) = T0 (we really get 2^(b((N0/N0)-1))* T0 which is T0)\n",
    "\n",
    "Now if we double by a factor of 2^b, N0 becomes twice as large as N0\n",
    "2. F(2 * N0) = 2^(b((2N0/N0)-1))* T0\n",
    "\n",
    "Which becomes\n",
    "3. F(N0) = 2^b(2-1)* T0\n",
    "\n",
    "Finally,\n",
    "4. F(N0) = 2^b * T0\n",
    "\n",
    "Therefore 2^b is the factor by which the equation will go up when N is doubled\n",
    "\n",
    "So we have our formula:\n",
    "\n",
    "F(N) = 2^(b((N/N0)-1)) * T0"
   ]
  },
  {
   "cell_type": "markdown",
   "metadata": {},
   "source": [
    "_________________\n",
    "\n",
    "**Question 8**"
   ]
  },
  {
   "cell_type": "markdown",
   "metadata": {},
   "source": [
    "Part A"
   ]
  },
  {
   "cell_type": "code",
   "execution_count": 494,
   "metadata": {},
   "outputs": [],
   "source": [
    "#BETTERCHANGE(M, c, d)\n",
    "#1 r ← M\n",
    "#2 for k ← 1 to d\n",
    "#3   ik ← r/ck\n",
    "#4   r ← r - ck * ik\n",
    "#5 return (i1, i2, …, id)\n",
    "\n",
    "# d = # of denominations\n",
    "# c = vector of the denomination values\n",
    "# M = float (or remainder, r)\n",
    "\n",
    "def betterChange(M, c, d):\n",
    "    # Remainder of the money\n",
    "    r = M\n",
    "    # Creating an array, i, to keep track\n",
    "    i = []\n",
    "    for k in range(0,d):\n",
    "        # We need two // because we don't want the floats\n",
    "        i.append(r // c[k])\n",
    "        r = r - c[k] * i[k]\n",
    "    return i\n"
   ]
  },
  {
   "cell_type": "markdown",
   "metadata": {},
   "source": [
    "Part B"
   ]
  },
  {
   "cell_type": "code",
   "execution_count": 495,
   "metadata": {},
   "outputs": [
    {
     "name": "stdout",
     "output_type": "stream",
     "text": [
      "[8.0, 2.0, 1.0]\n"
     ]
    }
   ],
   "source": [
    "# with M = 79, c = [9, 3, 1], and d = 3.\n",
    "\n",
    "better1 = betterChange(.79, [.09, .03, .01], 3)\n",
    "print(better1)"
   ]
  },
  {
   "cell_type": "markdown",
   "metadata": {},
   "source": [
    "Part C"
   ]
  },
  {
   "cell_type": "markdown",
   "metadata": {},
   "source": [
    "The runtime of betterChange is d because the program loops through a vector of denomination values (c). The length of this vector is determined by the length of d."
   ]
  },
  {
   "cell_type": "markdown",
   "metadata": {},
   "source": [
    "Part D"
   ]
  },
  {
   "cell_type": "code",
   "execution_count": 496,
   "metadata": {},
   "outputs": [
    {
     "name": "stdout",
     "output_type": "stream",
     "text": [
      "[8.0, 2.0, 1.0]\n"
     ]
    }
   ],
   "source": [
    "betterCorrect = betterChange(.79, [.09, .03, .01], 3)\n",
    "print(betterCorrect)"
   ]
  },
  {
   "cell_type": "markdown",
   "metadata": {},
   "source": [
    "Part E"
   ]
  },
  {
   "cell_type": "code",
   "execution_count": 497,
   "metadata": {},
   "outputs": [
    {
     "name": "stdout",
     "output_type": "stream",
     "text": [
      "[9.0, 0.0, 0.0]\n"
     ]
    }
   ],
   "source": [
    "betterIncorrect = betterChange(.47, [.05, .10, .25], 3)\n",
    "print(betterIncorrect)"
   ]
  },
  {
   "cell_type": "markdown",
   "metadata": {},
   "source": [
    "_________________\n",
    "\n",
    "**Question 9**"
   ]
  },
  {
   "cell_type": "markdown",
   "metadata": {},
   "source": [
    "Part A"
   ]
  },
  {
   "cell_type": "code",
   "execution_count": 498,
   "metadata": {},
   "outputs": [],
   "source": [
    "# Harmonic Numbers are 1, 1/2, 1/3, 1/4, 1/5, ...., 1/n ~ ln(n)\n",
    "\n",
    "import numpy as np\n",
    "\n",
    "def harmonic(n):\n",
    "    har = []\n",
    "    for i in range(1, n+1): \n",
    "        har.append(1/i)\n",
    "    return sum(har) "
   ]
  },
  {
   "cell_type": "markdown",
   "metadata": {},
   "source": [
    "Part B"
   ]
  },
  {
   "cell_type": "code",
   "execution_count": 499,
   "metadata": {},
   "outputs": [],
   "source": [
    "import numpy as np\n",
    "import random\n",
    "\n",
    "def coupon(n):\n",
    "    generated_values = []\n",
    "    count = 0\n",
    "    while True:\n",
    "        newnum = np.random.randint(low = 0, high = n)\n",
    "        if newnum in generated_values:\n",
    "            break\n",
    "        generated_values.append(newnum)\n",
    "        count += 1\n",
    "    return count"
   ]
  },
  {
   "cell_type": "markdown",
   "metadata": {},
   "source": [
    "Part C"
   ]
  },
  {
   "cell_type": "code",
   "execution_count": 500,
   "metadata": {},
   "outputs": [],
   "source": [
    "def coupon_sim(n):\n",
    "    c_sim = [] # array to store our simulation values\n",
    "    for i in range(100):\n",
    "        c_sim.append(coupon(n))\n",
    "    return (n, np.mean(c_sim) / n*np.log(n))"
   ]
  },
  {
   "cell_type": "markdown",
   "metadata": {},
   "source": [
    "Part D"
   ]
  },
  {
   "cell_type": "code",
   "execution_count": 501,
   "metadata": {},
   "outputs": [
    {
     "data": {
      "image/png": "[encoded data removed]",
      "text/plain": [
       "<Figure size 432x288 with 1 Axes>"
      ]
     },
     "metadata": {},
     "output_type": "display_data"
    }
   ],
   "source": [
    "n = 2\n",
    "n_max = 1000\n",
    "\n",
    "harmon = []\n",
    "dat = []\n",
    "while n < n_max: \n",
    "    dat.append(coupon_sim(n))\n",
    "    harmon.append((n, n*harmonic(n)))\n",
    "    n = n * 2\n",
    "    \n",
    "harmon = np.array(harmon)\n",
    "dat = np.array(dat)\n",
    "\n",
    "data_n = dat[:,0]\n",
    "data_sim = dat[:,1]\n",
    "\n",
    "harmon_n = harmon[:,0]\n",
    "harmon_data = harmon[:,1]\n",
    "\n",
    "plt.scatter(data_n, data_sim)\n",
    "plt.scatter(harmon_n, harmon_data)\n",
    "plt.title(\"Coupon Problem Simulation for n = 2 to 1000\")\n",
    "plt.xlabel(\"n\")\n",
    "plt.ylabel(\"Function Values\")\n",
    "plt.show()"
   ]
  },
  {
   "cell_type": "code",
   "execution_count": null,
   "metadata": {},
   "outputs": [],
   "source": []
  }
 ],
 "metadata": {
  "kernelspec": {
   "display_name": "Python 3",
   "language": "python",
   "name": "python3"
  },
  "language_info": {
   "codemirror_mode": {
    "name": "ipython",
    "version": 3
   },
   "file_extension": ".py",
   "mimetype": "text/x-python",
   "name": "python",
   "nbconvert_exporter": "python",
   "pygments_lexer": "ipython3",
   "version": "3.6.5"
  }
 },
 "nbformat": 4,
 "nbformat_minor": 2
}
